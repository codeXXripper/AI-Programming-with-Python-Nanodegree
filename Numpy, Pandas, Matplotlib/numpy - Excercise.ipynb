{
 "cells": [
  {
   "cell_type": "code",
   "execution_count": null,
   "metadata": {},
   "outputs": [],
   "source": [
    "import numpy as np\n",
    "\n",
    "x = np.array([1,2,3,4,5])\n",
    "\n",
    "print()\n",
    "print('x = ', x)\n",
    "print()\n",
    "print('The first element is : ', x[0])"
   ]
  },
  {
   "cell_type": "code",
   "execution_count": null,
   "metadata": {},
   "outputs": [],
   "source": [
    "\n",
    "x = np.array([1,2,3,4,5])\n",
    "\n",
    "x[4] = 7\n",
    "\n",
    "print('After modifying the value of x:', x)"
   ]
  },
  {
   "attachments": {},
   "cell_type": "markdown",
   "metadata": {},
   "source": [
    "**2D Array**"
   ]
  },
  {
   "cell_type": "code",
   "execution_count": null,
   "metadata": {},
   "outputs": [],
   "source": [
    "X = np.array([[1,2,3],[4,5,6],[7,8,9]])\n",
    "\n",
    "print(X)\n",
    "\n",
    "print()\n",
    "print('first element is :', X[0][0])\n",
    "print('last element is :', X[2][2])"
   ]
  },
  {
   "cell_type": "code",
   "execution_count": null,
   "metadata": {},
   "outputs": [],
   "source": [
    "X[1][1] = 99\n",
    "print(X)"
   ]
  },
  {
   "attachments": {},
   "cell_type": "markdown",
   "metadata": {},
   "source": [
    "**`np.delete(ndarray, elements, axis)`**"
   ]
  },
  {
   "cell_type": "code",
   "execution_count": null,
   "metadata": {},
   "outputs": [],
   "source": [
    "y = np.array([1, 2, 3, 4, 5])\n",
    "print(y)\n",
    "y = np.delete(y, [0,2])\n",
    "print(y)\n",
    "print()\n",
    "x = np.array([[1,2,3],[4,5,6],[7,8,9]])\n",
    "print( x )\n",
    "x = np.delete(x, 1, axis=0)\n",
    "print()\n",
    "print(x)\n",
    "\n",
    "z = np.delete(x, [0,2], axis=1)\n",
    "print()\n",
    "print(z)\n",
    "\n"
   ]
  },
  {
   "attachments": {},
   "cell_type": "markdown",
   "metadata": {},
   "source": [
    "_`numpy.append(array, values, axis=None)`_\n"
   ]
  },
  {
   "cell_type": "code",
   "execution_count": null,
   "metadata": {},
   "outputs": [],
   "source": [
    "x = np.array([1, 2, 3, 4, 5])\n",
    "print(x)\n",
    "print()\n",
    "v = np.append(x, 6)\n",
    "print(v)\n",
    "v = np.append(x, [7,8])\n",
    "print(v)\n",
    "print()\n",
    "Y = np.array([[1,2,3],[4,5,6]])\n",
    "print(Y)\n",
    "print()\n",
    "z = np.append(Y, [[7,8,9]], axis=0)\n",
    "print(z)\n",
    "\n",
    "q = np.append(Y, [[9],[10]], axis=1)\n",
    "print()\n",
    "print(q)"
   ]
  },
  {
   "attachments": {},
   "cell_type": "markdown",
   "metadata": {},
   "source": [
    "`np.insert(ndarray, index, elements, axis`"
   ]
  },
  {
   "cell_type": "code",
   "execution_count": null,
   "metadata": {},
   "outputs": [],
   "source": [
    "print(x)\n",
    "print()\n",
    "x = np.insert(x,2,[3,4])\n",
    "print(x)\n",
    "print()\n",
    "print(Y)\n",
    "print()\n",
    "y = np.insert(Y, 2,[7,8,9], axis=0)\n",
    "print(y)\n",
    "print()\n",
    "z = np.insert(Y,3,[7,8], axis=1)\n",
    "print(z)\n",
    "print()\n"
   ]
  },
  {
   "attachments": {},
   "cell_type": "markdown",
   "metadata": {},
   "source": [
    "`numpy.hstack(sequence_of_ndarray)`  \n",
    "_It returns a stacked array formed by stacking the given arrays in sequence horizontally (column-wise)_\n"
   ]
  },
  {
   "attachments": {},
   "cell_type": "markdown",
   "metadata": {},
   "source": [
    "`numpy.vstack(sequence_of_ndarray)`  \n",
    "It returns a stacked array formed by stacking the given arrays, will be at least 2-D, in sequence vertically (row-wise)."
   ]
  },
  {
   "cell_type": "code",
   "execution_count": null,
   "metadata": {},
   "outputs": [],
   "source": [
    "x = np.array([1,2])\n",
    "y = np.array([[3,4], [5,6]])\n",
    "print(x)\n",
    "print(y)\n",
    "\n",
    "X = np.vstack((x,y))\n",
    "Y = np.hstack((x.reshape(2,1), y))\n",
    "print()\n",
    "print(X)\n",
    "print()\n",
    "\n",
    "print(Y)"
   ]
  },
  {
   "cell_type": "code",
   "execution_count": null,
   "metadata": {},
   "outputs": [],
   "source": []
  }
 ],
 "metadata": {
  "kernelspec": {
   "display_name": "base",
   "language": "python",
   "name": "python3"
  },
  "language_info": {
   "codemirror_mode": {
    "name": "ipython",
    "version": 3
   },
   "file_extension": ".py",
   "mimetype": "text/x-python",
   "name": "python",
   "nbconvert_exporter": "python",
   "pygments_lexer": "ipython3",
   "version": "3.10.12"
  },
  "orig_nbformat": 4,
  "vscode": {
   "interpreter": {
    "hash": "4b812ccab138550355c2dd8169400f73bff9c901e957c1ea0359b53a84c2b649"
   }
  }
 },
 "nbformat": 4,
 "nbformat_minor": 2
}
