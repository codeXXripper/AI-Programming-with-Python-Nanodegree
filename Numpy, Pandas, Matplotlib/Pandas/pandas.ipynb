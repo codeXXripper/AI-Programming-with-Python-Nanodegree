{
 "cells": [
  {
   "cell_type": "code",
   "execution_count": null,
   "metadata": {},
   "outputs": [],
   "source": [
    "import pandas as pd\n",
    "\n",
    "# We create a Pandas Series that stores a grocery list\n",
    "groceries = pd.Series(data = [30, 6, 'Yes', 'No'], index = ['eggs', 'apples', 'milk', 'bread'])\n",
    "\n",
    "# We display the Groceries Pandas Series\n",
    "groceries"
   ]
  },
  {
   "cell_type": "code",
   "execution_count": null,
   "metadata": {},
   "outputs": [],
   "source": [
    "# We print some information about Groceries\n",
    "print('Groceries has shape:', groceries.shape)\n",
    "print('Groceries has dimension:', groceries.ndim)\n",
    "print('Groceries has a total of', groceries.size, 'elements')"
   ]
  },
  {
   "cell_type": "code",
   "execution_count": null,
   "metadata": {},
   "outputs": [],
   "source": [
    "# We print the index and data of Groceries\n",
    "print('The data in Groceries is:', groceries.values)\n",
    "print('The index of Groceries is:', groceries.index)"
   ]
  },
  {
   "cell_type": "code",
   "execution_count": null,
   "metadata": {},
   "outputs": [],
   "source": [
    "# We check whether bananas is a food item (an index) in Groceries\n",
    "x = 'bananas' in groceries\n",
    "\n",
    "# We check whether bread is a food item (an index) in Groceries\n",
    "y = 'bread' in groceries\n",
    "\n",
    "# We print the results\n",
    "print('Is bananas an index label in Groceries:', x)\n",
    "print('Is bread an index label in Groceries:', y)"
   ]
  },
  {
   "cell_type": "code",
   "execution_count": null,
   "metadata": {},
   "outputs": [],
   "source": [
    "# We use a single index label\n",
    "print('How many eggs do we need to buy:', groceries['eggs'])\n",
    "print()\n",
    "\n",
    "# we can access multiple index labels\n",
    "print('Do we need milk and bread:\\n', groceries[['milk', 'bread']]) \n",
    "print()\n",
    "\n",
    "# we use loc to access multiple index labels\n",
    "print('How many eggs and apples do we need to buy:\\n', groceries.loc[['eggs', 'apples']]) \n",
    "print()\n"
   ]
  },
  {
   "cell_type": "code",
   "execution_count": null,
   "metadata": {},
   "outputs": [],
   "source": [
    "\n",
    "# We access elements in Groceries using numerical indices:\n",
    "\n",
    "# we use multiple numerical indices\n",
    "print('How many eggs and apples do we need to buy:\\n',  groceries[[0, 1]]) \n",
    "print()\n",
    "\n",
    "# We use a negative numerical index\n",
    "print('Do we need bread:\\n', groceries[[-1]]) \n",
    "print()\n",
    "\n",
    "# We use a single numerical index\n",
    "print('How many eggs do we need to buy:', groceries[0]) \n",
    "print()\n",
    "# we use iloc to access multiple numerical indices\n",
    "print('Do we need milk and bread:\\n', groceries.iloc[[2, 3]]) "
   ]
  },
  {
   "cell_type": "code",
   "execution_count": null,
   "metadata": {},
   "outputs": [],
   "source": [
    "# We display the original grocery list\n",
    "print('Original Grocery List:\\n', groceries)\n",
    "\n",
    "# We change the number of eggs to 2\n",
    "groceries['eggs'] = 2\n",
    "\n",
    "# We display the changed grocery list\n",
    "print()\n",
    "print('Modified Grocery List:\\n', groceries)"
   ]
  },
  {
   "cell_type": "code",
   "execution_count": null,
   "metadata": {},
   "outputs": [],
   "source": [
    "print(groceries)\n",
    "\n",
    "print()\n",
    "\n",
    "print('Out of place delete method of data\\n', groceries.drop('apples'))\n",
    "\n",
    "print()\n",
    "\n",
    "print(groceries)"
   ]
  },
  {
   "cell_type": "code",
   "execution_count": null,
   "metadata": {},
   "outputs": [],
   "source": [
    "print(groceries)\n",
    "print()\n",
    "groceries.drop('bread', inplace=True)\n",
    "print('In place delete\\n', groceries)"
   ]
  },
  {
   "attachments": {},
   "cell_type": "markdown",
   "metadata": {},
   "source": [
    "__Arithmetic Operations on pandas Series__\n"
   ]
  },
  {
   "cell_type": "code",
   "execution_count": 21,
   "metadata": {},
   "outputs": [
    {
     "data": {
      "text/plain": [
       "apples     10\n",
       "oranges     6\n",
       "bananas     3\n",
       "dtype: int64"
      ]
     },
     "execution_count": 21,
     "metadata": {},
     "output_type": "execute_result"
    }
   ],
   "source": [
    "# We create a Pandas Series that stores a grocery list of just fruits\n",
    "fruits= pd.Series(data = [10, 6, 3,], index = ['apples', 'oranges', 'bananas'])\n",
    "\n",
    "# We display the fruits Pandas Series\n",
    "fruits\n"
   ]
  },
  {
   "cell_type": "code",
   "execution_count": 22,
   "metadata": {},
   "outputs": [
    {
     "name": "stdout",
     "output_type": "stream",
     "text": [
      "Original grocery list of fruits:\n",
      "  apples     10\n",
      "oranges     6\n",
      "bananas     3\n",
      "dtype: int64\n",
      "\n",
      "fruits + 2:\n",
      " apples     12\n",
      "oranges     8\n",
      "bananas     5\n",
      "dtype: int64\n",
      "\n",
      "fruits - 2:\n",
      " apples     8\n",
      "oranges    4\n",
      "bananas    1\n",
      "dtype: int64\n",
      "\n",
      "fruits  *2:\n",
      " apples     20\n",
      "oranges    12\n",
      "bananas     6\n",
      "dtype: int64\n",
      "\n",
      "fruits / 2:\n",
      " apples     5.0\n",
      "oranges    3.0\n",
      "bananas    1.5\n",
      "dtype: float64\n",
      "\n"
     ]
    }
   ],
   "source": [
    "# We print fruits for reference\n",
    "print('Original grocery list of fruits:\\n ', fruits)\n",
    "\n",
    "# We perform basic element-wise operations using arithmetic symbols\n",
    "print()\n",
    "print('fruits + 2:\\n', fruits + 2) # We add 2 to each item in fruits\n",
    "print()\n",
    "print('fruits - 2:\\n', fruits - 2) # We subtract 2 to each item in fruits\n",
    "print()\n",
    "print('fruits  *2:\\n', fruits*  2) # We multiply each item in fruits by 2 \n",
    "print()\n",
    "print('fruits / 2:\\n', fruits / 2) # We divide each item in fruits by 2\n",
    "print()"
   ]
  },
  {
   "cell_type": "code",
   "execution_count": 30,
   "metadata": {},
   "outputs": [
    {
     "name": "stdout",
     "output_type": "stream",
     "text": [
      "5\n",
      "apples     10\n",
      "oranges     6\n",
      "bananas     3\n",
      "dtype: int64\n",
      "\n",
      "8\n",
      "apples     10\n",
      "oranges     6\n",
      "bananas     3\n",
      "dtype: int64\n",
      "\n",
      "apples     20\n",
      "oranges    12\n",
      "dtype: int64\n",
      "apples     10\n",
      "oranges     6\n",
      "bananas     3\n",
      "dtype: int64\n",
      "\n",
      "apples     5.0\n",
      "oranges    3.0\n",
      "dtype: float64\n",
      "\n"
     ]
    }
   ],
   "source": [
    "print(fruits['bananas']+2)\n",
    "print(fruits)\n",
    "print()\n",
    "\n",
    "print(fruits.iloc[0] -2)\n",
    "print(fruits)\n",
    "print()\n",
    "\n",
    "print(fruits[['apples', 'oranges']]*2)\n",
    "print(fruits)\n",
    "print()\n",
    "\n",
    "print(fruits.loc[['apples', 'oranges']]/2)\n",
    "print()"
   ]
  },
  {
   "cell_type": "code",
   "execution_count": 31,
   "metadata": {},
   "outputs": [
    {
     "name": "stdout",
     "output_type": "stream",
     "text": [
      "eggs         4\n",
      "milk    YesYes\n",
      "dtype: object\n"
     ]
    }
   ],
   "source": [
    "print(groceries*2)"
   ]
  }
 ],
 "metadata": {
  "kernelspec": {
   "display_name": "base",
   "language": "python",
   "name": "python3"
  },
  "language_info": {
   "codemirror_mode": {
    "name": "ipython",
    "version": 3
   },
   "file_extension": ".py",
   "mimetype": "text/x-python",
   "name": "python",
   "nbconvert_exporter": "python",
   "pygments_lexer": "ipython3",
   "version": "3.10.12"
  },
  "orig_nbformat": 4,
  "vscode": {
   "interpreter": {
    "hash": "4b812ccab138550355c2dd8169400f73bff9c901e957c1ea0359b53a84c2b649"
   }
  }
 },
 "nbformat": 4,
 "nbformat_minor": 2
}
