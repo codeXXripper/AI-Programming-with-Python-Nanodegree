{
 "cells": [
  {
   "cell_type": "code",
   "execution_count": 11,
   "metadata": {},
   "outputs": [],
   "source": [
    "import numpy as np\n",
    "\n",
    "def cross_entropy(Y,P):\n",
    "    Y = np.float_(Y)\n",
    "    P = np.float_(P)\n",
    "    return -np.sum(Y*np.log(P)+(1-Y)*np.log(1-P))"
   ]
  },
  {
   "cell_type": "code",
   "execution_count": 14,
   "metadata": {},
   "outputs": [
    {
     "name": "stdout",
     "output_type": "stream",
     "text": [
      "2.8824035882469876\n",
      "0.6851790109107685\n",
      "1.532476871297972\n",
      "5.115995809754082\n",
      "3.729701448634191\n",
      "2.9187712324178627\n",
      "2.0714733720306593\n"
     ]
    }
   ],
   "source": [
    "print(cross_entropy((1,1,1),(0.8,0.7,0.1))) \n",
    "print(cross_entropy((1,1,0),(0.8,0.7,0.1))) \n",
    "print(cross_entropy((1,0,0),(0.8,0.7,0.1))) \n",
    "print(cross_entropy((0,0,1),(0.8,0.7,0.1))) \n",
    "print(cross_entropy((1,0,1),(0.8,0.7,0.1))) \n",
    "print(cross_entropy((0,0,0),(0.8,0.7,0.1))) \n",
    "print(cross_entropy((0,1,0),(0.8,0.7,0.1))) \n"
   ]
  }
 ],
 "metadata": {
  "kernelspec": {
   "display_name": "Python 3",
   "language": "python",
   "name": "python3"
  },
  "language_info": {
   "codemirror_mode": {
    "name": "ipython",
    "version": 3
   },
   "file_extension": ".py",
   "mimetype": "text/x-python",
   "name": "python",
   "nbconvert_exporter": "python",
   "pygments_lexer": "ipython3",
   "version": "3.10.12"
  }
 },
 "nbformat": 4,
 "nbformat_minor": 2
}
