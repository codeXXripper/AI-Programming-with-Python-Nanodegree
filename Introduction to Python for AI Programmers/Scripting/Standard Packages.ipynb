{
 "cells": [
  {
   "cell_type": "code",
   "execution_count": null,
   "id": "da0401bf",
   "metadata": {},
   "outputs": [],
   "source": [
    "from module_name import object_name\n",
    "from module_name import first_object, second_object\n",
    "import module_name as new_name\n",
    "from module_name import object_name as new_name\n"
   ]
  },
  {
   "cell_type": "code",
   "execution_count": null,
   "id": "02fd392c",
   "metadata": {},
   "outputs": [],
   "source": [
    "from module_name import *\n",
    "import os\n",
    "\n",
    "import package_name.submodule_name"
   ]
  },
  {
   "cell_type": "code",
   "execution_count": null,
   "id": "143d10ea",
   "metadata": {},
   "outputs": [],
   "source": []
  }
 ],
 "metadata": {
  "kernelspec": {
   "display_name": "Python 3 (ipykernel)",
   "language": "python",
   "name": "python3"
  },
  "language_info": {
   "codemirror_mode": {
    "name": "ipython",
    "version": 3
   },
   "file_extension": ".py",
   "mimetype": "text/x-python",
   "name": "python",
   "nbconvert_exporter": "python",
   "pygments_lexer": "ipython3",
   "version": "3.10.9"
  }
 },
 "nbformat": 4,
 "nbformat_minor": 5
}
