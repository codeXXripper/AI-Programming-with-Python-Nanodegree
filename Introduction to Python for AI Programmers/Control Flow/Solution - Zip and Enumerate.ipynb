{
 "cells": [
  {
   "cell_type": "markdown",
   "id": "bcb2f82a",
   "metadata": {},
   "source": [
    "## Quiz: Zip and Enumerate\n"
   ]
  },
  {
   "cell_type": "code",
   "execution_count": 23,
   "id": "2771a7ea",
   "metadata": {},
   "outputs": [
    {
     "name": "stdout",
     "output_type": "stream",
     "text": [
      "F: 23, 677, 4\n",
      "J: 53, 233, 16\n",
      "A: 2, 405, -6\n",
      "Q: -12, 433, -42\n",
      "Y: 95, 905, 3\n",
      "B: 103, 376, -6\n",
      "W: 14, 432, 23\n",
      "X: -5, 445, -1\n"
     ]
    }
   ],
   "source": [
    "x_coord = [23, 53, 2, -12, 95, 103, 14, -5]\n",
    "y_coord = [677, 233, 405, 433, 905, 376, 432, 445]\n",
    "z_coord = [4, 16, -6, -42, 3, -6, 23, -1]\n",
    "labels = [\"F\", \"J\", \"A\", \"Q\", \"Y\", \"B\", \"W\", \"X\"]\n",
    "points = []\n",
    "# write your for loop here\n",
    "for point in zip(labels, x_coord,y_coord,z_coord):\n",
    "    points.append(\"{}: {}, {}, {}\".format(*point))\n",
    "    \n",
    "for point in points:\n",
    "    print(point)"
   ]
  },
  {
   "cell_type": "code",
   "execution_count": 6,
   "id": "8c991aa2",
   "metadata": {},
   "outputs": [
    {
     "name": "stdout",
     "output_type": "stream",
     "text": [
      "{'Barney': 72, 'Robin': 68, 'Ted': 72, 'Lily': 66, 'Marshall': 76}\n"
     ]
    }
   ],
   "source": [
    "cast_names = [\"Barney\", \"Robin\", \"Ted\", \"Lily\", \"Marshall\"]\n",
    "cast_heights = [72, 68, 72, 66, 76]\n",
    "cast = dict(zip(cast_names, cast_heights))\n",
    "print(cast)"
   ]
  },
  {
   "cell_type": "markdown",
   "id": "62dda95f",
   "metadata": {},
   "source": [
    "## Quiz: Unzip Tuples"
   ]
  },
  {
   "cell_type": "code",
   "execution_count": 2,
   "id": "9828869a",
   "metadata": {},
   "outputs": [
    {
     "name": "stdout",
     "output_type": "stream",
     "text": [
      "('Barney', 'Robin', 'Ted', 'Lily', 'Marshall') (72, 68, 72, 66, 76)\n"
     ]
    }
   ],
   "source": [
    "cast = ((\"Barney\", 72), (\"Robin\", 68), (\"Ted\", 72), (\"Lily\", 66), (\"Marshall\", 76))\n",
    "# define names and heights here\n",
    "names, heights = zip(*cast)# replace with your code\n",
    "print(names, heights)"
   ]
  },
  {
   "cell_type": "markdown",
   "id": "35676b5d",
   "metadata": {},
   "source": [
    "## Quiz: Transpose with Zip\n"
   ]
  },
  {
   "cell_type": "code",
   "execution_count": 13,
   "id": "1f0dc48f",
   "metadata": {},
   "outputs": [
    {
     "name": "stdout",
     "output_type": "stream",
     "text": [
      "((0, 3, 6, 9), (1, 4, 7, 10), (2, 5, 8, 11))\n"
     ]
    }
   ],
   "source": [
    "data = ((0, 1, 2), (3, 4, 5), (6, 7, 8), (9, 10, 11))\n",
    "data_transpose = tuple(zip(*data)) # replace with your code\n",
    "print(data_transpose)"
   ]
  },
  {
   "cell_type": "markdown",
   "id": "28cc62eb",
   "metadata": {},
   "source": [
    "## Quiz: Enumerate"
   ]
  },
  {
   "cell_type": "code",
   "execution_count": 19,
   "id": "261f82ba",
   "metadata": {},
   "outputs": [
    {
     "name": "stdout",
     "output_type": "stream",
     "text": [
      "['Barney Stinson 72', 'Robin Scherbatsky 68', 'Ted Mosby 72', 'Lily Aldrin 66', 'Marshall Eriksen 76']\n"
     ]
    }
   ],
   "source": [
    "cast = [\"Barney Stinson\", \"Robin Scherbatsky\", \"Ted Mosby\", \"Lily Aldrin\", \"Marshall Eriksen\"]\n",
    "heights = [72, 68, 72, 66, 76]\n",
    "# write your for loop here\n",
    "for i ,(name, height) in enumerate(zip(cast, heights)):\n",
    "    cast[i] = \"{} {}\".format(name, height)\n",
    "print(cast)\n"
   ]
  },
  {
   "cell_type": "code",
   "execution_count": null,
   "id": "e49e0d09",
   "metadata": {},
   "outputs": [],
   "source": []
  }
 ],
 "metadata": {
  "kernelspec": {
   "display_name": "Python 3 (ipykernel)",
   "language": "python",
   "name": "python3"
  },
  "language_info": {
   "codemirror_mode": {
    "name": "ipython",
    "version": 3
   },
   "file_extension": ".py",
   "mimetype": "text/x-python",
   "name": "python",
   "nbconvert_exporter": "python",
   "pygments_lexer": "ipython3",
   "version": "3.10.6"
  }
 },
 "nbformat": 4,
 "nbformat_minor": 5
}
