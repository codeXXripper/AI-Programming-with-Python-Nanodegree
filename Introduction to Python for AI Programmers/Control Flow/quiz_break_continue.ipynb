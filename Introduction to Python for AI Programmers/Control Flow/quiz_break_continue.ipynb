{
 "cells": [
  {
   "cell_type": "code",
   "execution_count": 1,
   "metadata": {
    "edited": true,
    "gradable": true,
    "grader_id": "bnat2914dfb",
    "udacity_user_query": ""
   },
   "outputs": [
    {
     "name": "stdout",
     "output_type": "stream",
     "text": [
      "140\n"
     ]
    }
   ],
   "source": [
    "# HINT: modify the headlines list to verify your loop works with different inputs\n",
    "headlines = [\"Local Bear Eaten by Man\",\n",
    "             \"Legislature Announces New Laws\",\n",
    "             \"Peasant Discovers Violence Inherent in System\",\n",
    "             \"Cat Rescues Fireman Stuck in Tree\",\n",
    "             \"Brave Knight Runs Away\",\n",
    "             \"Papperbok Review: Totally Triffic\"]\n",
    "\n",
    "news_ticker = \"\"\n",
    "# write your loop here\n",
    "for news in headlines:\n",
    "    news_ticker+=\"{} \".format(news)  \n",
    "    if(len(news_ticker)>140):\n",
    "        news_ticker=news_ticker[0:140]\n",
    "        break\n",
    "        \n",
    "print(len(news_ticker))"
   ]
  },
  {
   "cell_type": "code",
   "execution_count": null,
   "metadata": {},
   "outputs": [],
   "source": []
  }
 ],
 "metadata": {
  "grader_mode": "",
  "kernelspec": {
   "display_name": "Python 3",
   "language": "python",
   "name": "python3"
  },
  "language_info": {
   "codemirror_mode": {
    "name": "ipython",
    "version": 3
   },
   "file_extension": ".py",
   "mimetype": "text/x-python",
   "name": "python",
   "nbconvert_exporter": "python",
   "pygments_lexer": "ipython3",
   "version": "3.6.3"
  },
  "showGradeBtn": true
 },
 "nbformat": 4,
 "nbformat_minor": 2
}
