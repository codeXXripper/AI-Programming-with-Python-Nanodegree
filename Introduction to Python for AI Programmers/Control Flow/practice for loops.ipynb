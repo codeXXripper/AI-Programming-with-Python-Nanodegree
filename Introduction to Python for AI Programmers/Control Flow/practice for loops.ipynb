{
 "cells": [
  {
   "cell_type": "code",
   "execution_count": 21,
   "id": "9f915d55",
   "metadata": {},
   "outputs": [
    {
     "name": "stdout",
     "output_type": "stream",
     "text": [
      "['new york city', 'mountain view', 'chicago', 'los angeles']\n",
      "New York City\n",
      "Mountain View\n",
      "Chicago\n",
      "Los Angeles\n",
      "['New York City', 'Mountain View', 'Chicago', 'Los Angeles']\n"
     ]
    }
   ],
   "source": [
    "cities = ['new york city', 'mountain view', 'chicago', 'los angeles']\n",
    "print(cities)\n",
    "capitalized_cities = []\n",
    "for city in cities:\n",
    "    capitalized_cities.append(city.title())\n",
    "# Creating a list\n",
    "# for city in capitalized_cities:\n",
    "#     print(city)\n",
    "    \n",
    "# Modifying a list\n",
    "for index in range(len(cities)):\n",
    "    cities[index] = cities[index].title()\n",
    "    print(cities[index])\n",
    "print(cities)"
   ]
  },
  {
   "cell_type": "code",
   "execution_count": 13,
   "id": "d3269db6",
   "metadata": {},
   "outputs": [
    {
     "name": "stdout",
     "output_type": "stream",
     "text": [
      "Hello!\n",
      "1\n",
      "Hello!\n",
      "3\n",
      "Hello!\n",
      "5\n",
      "Hello!\n",
      "7\n",
      "Hello!\n",
      "9\n"
     ]
    }
   ],
   "source": [
    "for i in range(1, 10, 2): #0,1,2\n",
    "    print(\"Hello!\")\n",
    "    print(i)\n"
   ]
  },
  {
   "cell_type": "code",
   "execution_count": 24,
   "id": "88446d69",
   "metadata": {},
   "outputs": [
    {
     "name": "stdout",
     "output_type": "stream",
     "text": [
      "the\n",
      "quick\n",
      "brown\n",
      "fox\n",
      "jumped\n",
      "over\n",
      "the\n",
      "lazy\n",
      "dog\n"
     ]
    }
   ],
   "source": [
    "# Practice: Quick Brown Fox\n",
    "# Use a for loop to take a list and print each element of the list in its own line. Example:\n",
    "\n",
    "sentence = [\"the\", \"quick\", \"brown\", \"fox\", \"jumped\", \"over\", \"the\", \"lazy\", \"dog\"]\n",
    "\n",
    "for word in sentence:\n",
    "    print(word)\n",
    "\n"
   ]
  },
  {
   "cell_type": "code",
   "execution_count": 35,
   "id": "7b6a90db",
   "metadata": {},
   "outputs": [
    {
     "name": "stdout",
     "output_type": "stream",
     "text": [
      "5\n",
      "10\n",
      "15\n",
      "20\n",
      "25\n",
      "30\n"
     ]
    }
   ],
   "source": [
    "\n",
    "# Practice: Multiples of 5\n",
    "# Write a for loop below that will print out every whole number that is a multiple of 5 and less than or equal to 30. This should output:\n",
    "\n",
    "for i in range(5, 35, 5):\n",
    "    print(i)"
   ]
  },
  {
   "cell_type": "code",
   "execution_count": null,
   "id": "46681eea",
   "metadata": {},
   "outputs": [],
   "source": []
  }
 ],
 "metadata": {
  "kernelspec": {
   "display_name": "Python 3 (ipykernel)",
   "language": "python",
   "name": "python3"
  },
  "language_info": {
   "codemirror_mode": {
    "name": "ipython",
    "version": 3
   },
   "file_extension": ".py",
   "mimetype": "text/x-python",
   "name": "python",
   "nbconvert_exporter": "python",
   "pygments_lexer": "ipython3",
   "version": "3.10.6"
  }
 },
 "nbformat": 4,
 "nbformat_minor": 5
}
