{
 "cells": [
  {
   "cell_type": "code",
   "execution_count": 2,
   "id": "4db965b3",
   "metadata": {},
   "outputs": [
    {
     "name": "stdout",
     "output_type": "stream",
     "text": [
      "Congratulations! You won a wafer-thin mint!\n"
     ]
    }
   ],
   "source": [
    "points = 174  # use this input to make your submission\n",
    "\n",
    "# write your if statement here\n",
    "if points>= 1 and  points <= 50:\n",
    "    prize_name = 'wooden rabbit'\n",
    "    result = 'Congratulations! You won a {}!'.format(prize_name)\n",
    "elif points>=51 and  points <= 150:\n",
    "    prize_name = 'no prize'\n",
    "    result = 'Oh dear, {} this time.'.format(prize_name)\n",
    "elif points>=151 and  points <= 180:\n",
    "    prize_name = 'wafer-thin mint'\n",
    "    result = 'Congratulations! You won a {}!'.format(prize_name)\n",
    "elif points>=181 and  points <= 200:\n",
    "    prize_name = 'penguin'\n",
    "    result = 'Congratulations! You won a {}!'.format(prize_name)\n",
    "else:\n",
    "    print('Unknown Prize')\n",
    "print(result) # replace None with appropriate code"
   ]
  },
  {
   "cell_type": "code",
   "execution_count": null,
   "id": "069280ff",
   "metadata": {},
   "outputs": [],
   "source": []
  }
 ],
 "metadata": {
  "kernelspec": {
   "display_name": "base",
   "language": "python",
   "name": "python3"
  },
  "language_info": {
   "codemirror_mode": {
    "name": "ipython",
    "version": 3
   },
   "file_extension": ".py",
   "mimetype": "text/x-python",
   "name": "python",
   "nbconvert_exporter": "python",
   "pygments_lexer": "ipython3",
   "version": "3.10.9"
  },
  "vscode": {
   "interpreter": {
    "hash": "4b812ccab138550355c2dd8169400f73bff9c901e957c1ea0359b53a84c2b649"
   }
  }
 },
 "nbformat": 4,
 "nbformat_minor": 5
}
