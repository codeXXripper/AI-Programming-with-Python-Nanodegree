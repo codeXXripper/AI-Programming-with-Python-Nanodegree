{
 "cells": [
  {
   "cell_type": "code",
   "execution_count": 4,
   "id": "a5236ced",
   "metadata": {},
   "outputs": [
    {
     "data": {
      "text/plain": [
       "1539.3791"
      ]
     },
     "execution_count": 4,
     "metadata": {},
     "output_type": "execute_result"
    }
   ],
   "source": [
    "def cylinder_volume(height, radius=5):\n",
    "    pi = 3.14159\n",
    "    return height  *pi*  radius ** 2\n",
    "cylinder_volume(10, 7)  # pass in arguments by position\n",
    "cylinder_volume(radius=7, height=10)  # pass in arguments by name\n"
   ]
  },
  {
   "cell_type": "code",
   "execution_count": null,
   "id": "7246093c",
   "metadata": {},
   "outputs": [],
   "source": [
    "Quiz"
   ]
  },
  {
   "cell_type": "code",
   "execution_count": 11,
   "id": "0073701f",
   "metadata": {},
   "outputs": [
    {
     "name": "stdout",
     "output_type": "stream",
     "text": [
      "0 week(s) and 1 day(s).\n"
     ]
    }
   ],
   "source": [
    "# write your function here\n",
    "def readable_timedelta(days):\n",
    "    weeks_count=0\n",
    "    days_count=0\n",
    "    if days<7:\n",
    "        days_count=days\n",
    "    else:\n",
    "        weeks_count=int(days/7)\n",
    "        days_count=days%7\n",
    "    \n",
    "    result=\"{} week(s) and {} day(s).\".format(weeks_count, days_count)\n",
    "    return result\n",
    "\n",
    "print(readable_timedelta(1))\n"
   ]
  },
  {
   "cell_type": "code",
   "execution_count": 16,
   "id": "f8fc7133",
   "metadata": {},
   "outputs": [
    {
     "name": "stdout",
     "output_type": "stream",
     "text": [
      "15 week(s) and 4 day(s).\n"
     ]
    }
   ],
   "source": [
    "def readable_timedelta(days):\n",
    "    weeks=days//7\n",
    "    no_days=days%7\n",
    "    return\"{} week(s) and {} day(s).\".format(weeks, no_days)\n",
    "\n",
    "print(readable_timedelta(109))\n"
   ]
  },
  {
   "cell_type": "code",
   "execution_count": 22,
   "id": "3462850f",
   "metadata": {},
   "outputs": [
    {
     "name": "stdout",
     "output_type": "stream",
     "text": [
      "12\n"
     ]
    }
   ],
   "source": [
    "egg_count = 0\n",
    "\n",
    "def buy_eggs():\n",
    "    global egg_count\n",
    "    egg_count += 12 # purchase a dozen eggs\n",
    "buy_eggs()\n",
    "print(egg_count)"
   ]
  },
  {
   "cell_type": "code",
   "execution_count": 23,
   "id": "220ce7ed",
   "metadata": {},
   "outputs": [
    {
     "name": "stdout",
     "output_type": "stream",
     "text": [
      "Functions are important programming concepts.\n"
     ]
    }
   ],
   "source": [
    "str1 = 'Functions are important programming concepts.'\n",
    "\n",
    "def print_fn():\n",
    "    #str1 = 'Variable scope is an important concept.'\n",
    "    print(str1)\n",
    "\n",
    "print_fn()"
   ]
  },
  {
   "cell_type": "code",
   "execution_count": null,
   "id": "12752f5c",
   "metadata": {},
   "outputs": [],
   "source": []
  }
 ],
 "metadata": {
  "kernelspec": {
   "display_name": "Python 3 (ipykernel)",
   "language": "python",
   "name": "python3"
  },
  "language_info": {
   "codemirror_mode": {
    "name": "ipython",
    "version": 3
   },
   "file_extension": ".py",
   "mimetype": "text/x-python",
   "name": "python",
   "nbconvert_exporter": "python",
   "pygments_lexer": "ipython3",
   "version": "3.10.9"
  }
 },
 "nbformat": 4,
 "nbformat_minor": 5
}
