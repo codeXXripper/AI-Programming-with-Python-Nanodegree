{
 "cells": [
  {
   "cell_type": "markdown",
   "metadata": {},
   "source": [
    "## Quiz: Population Density Function\n",
    "\n",
    "Write a function named `population_density` that takes two arguments, `population` and `land_area`, and returns a population density calculated from those values."
   ]
  },
  {
   "cell_type": "code",
   "execution_count": 1,
   "metadata": {
    "edited": true,
    "gradable": true,
    "grader_id": "j3yf1bkemp",
    "udacity_user_query": ""
   },
   "outputs": [],
   "source": [
    "# write your function here\n",
    "def population_density(population, land_area):\n",
    "    return population/land_area"
   ]
  },
  {
   "cell_type": "markdown",
   "metadata": {},
   "source": [
    "## Quiz: `readable_timedelta`\n",
    "\n",
    "Write a function named `readable_timedelta`. The function should take one argument, an integer `days`, and return a string that says how many weeks and days that is. For example, calling the function and printing the result like this:\n",
    "\n",
    "```python\n",
    "print(readable_timedelta(10))\n",
    "```\n",
    "\n",
    "should output the following:\n",
    "\n",
    "```txt\n",
    "1 week(s) and 3 day(s).\n",
    "```"
   ]
  },
  {
   "cell_type": "code",
   "execution_count": 9,
   "metadata": {
    "edited": true,
    "gradable": true,
    "grader_id": "ke4i8pceml",
    "udacity_user_query": ""
   },
   "outputs": [
    {
     "name": "stdout",
     "output_type": "stream",
     "text": [
      "0 week(s) and 1 day(s).\n"
     ]
    }
   ],
   "source": [
    "# write your function here\n",
    "def readable_timedelta(days):\n",
    "    weeks_count=0\n",
    "    days_count=0\n",
    "    if days<7:\n",
    "        days_count=days\n",
    "    else:\n",
    "        weeks_count=int(days/7)\n",
    "        days_count=days%7\n",
    "    \n",
    "    result=\"{} week(s) and {} day(s).\".format(weeks_count, days_count)\n",
    "    return result\n",
    "\n",
    "print(readable_timedelta(1))\n"
   ]
  },
  {
   "cell_type": "code",
   "execution_count": null,
   "metadata": {},
   "outputs": [],
   "source": []
  }
 ],
 "metadata": {
  "grader_mode": "",
  "kernelspec": {
   "display_name": "Python 3",
   "language": "python",
   "name": "python3"
  },
  "language_info": {
   "codemirror_mode": {
    "name": "ipython",
    "version": 3
   },
   "file_extension": ".py",
   "mimetype": "text/x-python",
   "name": "python",
   "nbconvert_exporter": "python",
   "pygments_lexer": "ipython3",
   "version": "3.6.3"
  },
  "showGradeBtn": true
 },
 "nbformat": 4,
 "nbformat_minor": 2
}
